{
 "cells": [
  {
   "cell_type": "code",
   "execution_count": 7,
   "metadata": {},
   "outputs": [],
   "source": [
    "# Import the custom library\n",
    "import logic_algorithms as la\n",
    "import sympy as sp\n",
    "from sympy.logic.boolalg import Implies, And, Or, Not, Equivalent"
   ]
  },
  {
   "cell_type": "markdown",
   "metadata": {},
   "source": [
    "# Plausability table"
   ]
  },
  {
   "cell_type": "code",
   "execution_count": 8,
   "metadata": {},
   "outputs": [
    {
     "data": {
      "text/html": [
       "<style type=\"text/css\">\n",
       "#T_c2ad3 td {\n",
       "  border: 1px solid black;\n",
       "}\n",
       "#T_c2ad3  th {\n",
       "  border: 1px solid black;\n",
       "}\n",
       "</style>\n",
       "<table id=\"T_c2ad3\">\n",
       "  <thead>\n",
       "    <tr>\n",
       "      <th class=\"blank level0\" >&nbsp;</th>\n",
       "      <th id=\"T_c2ad3_level0_col0\" class=\"col_heading level0 col0\" >p, q</th>\n",
       "      <th id=\"T_c2ad3_level0_col1\" class=\"col_heading level0 col1\" >p, q̅</th>\n",
       "      <th id=\"T_c2ad3_level0_col2\" class=\"col_heading level0 col2\" >p̅, q</th>\n",
       "      <th id=\"T_c2ad3_level0_col3\" class=\"col_heading level0 col3\" >p̅, q̅</th>\n",
       "    </tr>\n",
       "  </thead>\n",
       "  <tbody>\n",
       "    <tr>\n",
       "      <th id=\"T_c2ad3_level0_row0\" class=\"row_heading level0 row0\" >0</th>\n",
       "      <td id=\"T_c2ad3_row0_col0\" class=\"data row0 col0\" ></td>\n",
       "      <td id=\"T_c2ad3_row0_col1\" class=\"data row0 col1\" ></td>\n",
       "      <td id=\"T_c2ad3_row0_col2\" class=\"data row0 col2\" ></td>\n",
       "      <td id=\"T_c2ad3_row0_col3\" class=\"data row0 col3\" >w</td>\n",
       "    </tr>\n",
       "    <tr>\n",
       "      <th id=\"T_c2ad3_level0_row1\" class=\"row_heading level0 row1\" >1</th>\n",
       "      <td id=\"T_c2ad3_row1_col0\" class=\"data row1 col0\" >x</td>\n",
       "      <td id=\"T_c2ad3_row1_col1\" class=\"data row1 col1\" ></td>\n",
       "      <td id=\"T_c2ad3_row1_col2\" class=\"data row1 col2\" >z</td>\n",
       "      <td id=\"T_c2ad3_row1_col3\" class=\"data row1 col3\" ></td>\n",
       "    </tr>\n",
       "    <tr>\n",
       "      <th id=\"T_c2ad3_level0_row2\" class=\"row_heading level0 row2\" >2</th>\n",
       "      <td id=\"T_c2ad3_row2_col0\" class=\"data row2 col0\" ></td>\n",
       "      <td id=\"T_c2ad3_row2_col1\" class=\"data row2 col1\" >y</td>\n",
       "      <td id=\"T_c2ad3_row2_col2\" class=\"data row2 col2\" ></td>\n",
       "      <td id=\"T_c2ad3_row2_col3\" class=\"data row2 col3\" ></td>\n",
       "    </tr>\n",
       "  </tbody>\n",
       "</table>\n"
      ],
      "text/plain": [
       "<pandas.io.formats.style.Styler at 0x215eee28490>"
      ]
     },
     "execution_count": 8,
     "metadata": {},
     "output_type": "execute_result"
    }
   ],
   "source": [
    "# Define the table with the plausibility orders\n",
    "plausibility_table = {\n",
    "    'p, q': {'states': ['x'], 'order': 2},\n",
    "    'p, n_q': {'states': ['y'], 'order': 1},\n",
    "    'n_p, q': {'states': ['z'], 'order': 2},\n",
    "    'n_p, n_q': {'states': ['w'], 'order': 3}\n",
    "}\n",
    "\n",
    "styled_df = la.display_plausibility_table(plausibility_table)\n",
    "styled_df\n"
   ]
  },
  {
   "cell_type": "markdown",
   "metadata": {},
   "source": [
    "## Contraction"
   ]
  },
  {
   "cell_type": "markdown",
   "metadata": {},
   "source": [
    "Union of the prior most plausible word entailing the proposition and the prior most plausible word not entiling the proposition."
   ]
  },
  {
   "cell_type": "code",
   "execution_count": 9,
   "metadata": {},
   "outputs": [
    {
     "name": "stdout",
     "output_type": "stream",
     "text": [
      "Contraction with p: (['y'], ['z'])\n",
      "Contraction with q: (['x'], ['y'])\n",
      "Contraction with n_p: (['z'], ['y'])\n",
      "Contraction with n_q: (['y'], ['x'])\n"
     ]
    }
   ],
   "source": [
    "# Results of the contraction\n",
    "print(\"Contraction with p: \" + str(la.contraction(plausibility_table, 'p')))\n",
    "print(\"Contraction with q: \" + str(la.contraction(plausibility_table, 'q')))\n",
    "print(\"Contraction with n_p: \" + str(la.contraction(plausibility_table, 'n_p')))\n",
    "print(\"Contraction with n_q: \" + str(la.contraction(plausibility_table, 'n_q')))"
   ]
  },
  {
   "cell_type": "markdown",
   "metadata": {},
   "source": [
    "## Revision"
   ]
  },
  {
   "cell_type": "markdown",
   "metadata": {},
   "source": [
    "Most plausible state matching the revision"
   ]
  },
  {
   "cell_type": "code",
   "execution_count": 10,
   "metadata": {},
   "outputs": [
    {
     "name": "stdout",
     "output_type": "stream",
     "text": [
      "Revision with p: ['y']\n",
      "Revision with q: ['x']\n",
      "Revision with n_p: ['z']\n",
      "Revision with n_q: ['y']\n"
     ]
    }
   ],
   "source": [
    "# Results of the revision\n",
    "print(\"Revision with p: \" + str(la.revision(plausibility_table, 'p')))\n",
    "print(\"Revision with q: \" + str(la.revision(plausibility_table, 'q')))\n",
    "print(\"Revision with n_p: \" + str(la.revision(plausibility_table, 'n_p')))\n",
    "print(\"Revision with n_q: \" + str(la.revision(plausibility_table, 'n_q')))"
   ]
  },
  {
   "cell_type": "markdown",
   "metadata": {},
   "source": [
    "# Belief Base"
   ]
  },
  {
   "cell_type": "markdown",
   "metadata": {},
   "source": [
    "# Truth table"
   ]
  },
  {
   "cell_type": "code",
   "execution_count": 11,
   "metadata": {},
   "outputs": [
    {
     "data": {
      "text/html": [
       "<style type=\"text/css\">\n",
       "#T_71ad3_row0_col0, #T_71ad3_row0_col1, #T_71ad3_row0_col5, #T_71ad3_row0_col6, #T_71ad3_row1_col0, #T_71ad3_row1_col4, #T_71ad3_row1_col5, #T_71ad3_row1_col7, #T_71ad3_row2_col1, #T_71ad3_row2_col2, #T_71ad3_row2_col3, #T_71ad3_row2_col5, #T_71ad3_row2_col7, #T_71ad3_row3_col2 {\n",
       "  background-color: lightcoral;\n",
       "  color: white;\n",
       "}\n",
       "#T_71ad3_row0_col2, #T_71ad3_row0_col3, #T_71ad3_row0_col4, #T_71ad3_row0_col7, #T_71ad3_row1_col1, #T_71ad3_row1_col2, #T_71ad3_row1_col3, #T_71ad3_row1_col6, #T_71ad3_row2_col0, #T_71ad3_row2_col4, #T_71ad3_row2_col6, #T_71ad3_row3_col0, #T_71ad3_row3_col1, #T_71ad3_row3_col3, #T_71ad3_row3_col4, #T_71ad3_row3_col5, #T_71ad3_row3_col6, #T_71ad3_row3_col7 {\n",
       "  background-color: lightgreen;\n",
       "  color: white;\n",
       "}\n",
       "</style>\n",
       "<table id=\"T_71ad3\">\n",
       "  <thead>\n",
       "    <tr>\n",
       "      <th class=\"blank level0\" >&nbsp;</th>\n",
       "      <th id=\"T_71ad3_level0_col0\" class=\"col_heading level0 col0\" >p</th>\n",
       "      <th id=\"T_71ad3_level0_col1\" class=\"col_heading level0 col1\" >q</th>\n",
       "      <th id=\"T_71ad3_level0_col2\" class=\"col_heading level0 col2\" >~p</th>\n",
       "      <th id=\"T_71ad3_level0_col3\" class=\"col_heading level0 col3\" >Implies(p, q)</th>\n",
       "      <th id=\"T_71ad3_level0_col4\" class=\"col_heading level0 col4\" >Implies(q, p)</th>\n",
       "      <th id=\"T_71ad3_level0_col5\" class=\"col_heading level0 col5\" >p & q</th>\n",
       "      <th id=\"T_71ad3_level0_col6\" class=\"col_heading level0 col6\" >p | q</th>\n",
       "      <th id=\"T_71ad3_level0_col7\" class=\"col_heading level0 col7\" >Equivalent(p, q)</th>\n",
       "    </tr>\n",
       "  </thead>\n",
       "  <tbody>\n",
       "    <tr>\n",
       "      <th id=\"T_71ad3_level0_row0\" class=\"row_heading level0 row0\" >0</th>\n",
       "      <td id=\"T_71ad3_row0_col0\" class=\"data row0 col0\" >F</td>\n",
       "      <td id=\"T_71ad3_row0_col1\" class=\"data row0 col1\" >F</td>\n",
       "      <td id=\"T_71ad3_row0_col2\" class=\"data row0 col2\" >T</td>\n",
       "      <td id=\"T_71ad3_row0_col3\" class=\"data row0 col3\" >T</td>\n",
       "      <td id=\"T_71ad3_row0_col4\" class=\"data row0 col4\" >T</td>\n",
       "      <td id=\"T_71ad3_row0_col5\" class=\"data row0 col5\" >F</td>\n",
       "      <td id=\"T_71ad3_row0_col6\" class=\"data row0 col6\" >F</td>\n",
       "      <td id=\"T_71ad3_row0_col7\" class=\"data row0 col7\" >T</td>\n",
       "    </tr>\n",
       "    <tr>\n",
       "      <th id=\"T_71ad3_level0_row1\" class=\"row_heading level0 row1\" >1</th>\n",
       "      <td id=\"T_71ad3_row1_col0\" class=\"data row1 col0\" >F</td>\n",
       "      <td id=\"T_71ad3_row1_col1\" class=\"data row1 col1\" >T</td>\n",
       "      <td id=\"T_71ad3_row1_col2\" class=\"data row1 col2\" >T</td>\n",
       "      <td id=\"T_71ad3_row1_col3\" class=\"data row1 col3\" >T</td>\n",
       "      <td id=\"T_71ad3_row1_col4\" class=\"data row1 col4\" >F</td>\n",
       "      <td id=\"T_71ad3_row1_col5\" class=\"data row1 col5\" >F</td>\n",
       "      <td id=\"T_71ad3_row1_col6\" class=\"data row1 col6\" >T</td>\n",
       "      <td id=\"T_71ad3_row1_col7\" class=\"data row1 col7\" >F</td>\n",
       "    </tr>\n",
       "    <tr>\n",
       "      <th id=\"T_71ad3_level0_row2\" class=\"row_heading level0 row2\" >2</th>\n",
       "      <td id=\"T_71ad3_row2_col0\" class=\"data row2 col0\" >T</td>\n",
       "      <td id=\"T_71ad3_row2_col1\" class=\"data row2 col1\" >F</td>\n",
       "      <td id=\"T_71ad3_row2_col2\" class=\"data row2 col2\" >F</td>\n",
       "      <td id=\"T_71ad3_row2_col3\" class=\"data row2 col3\" >F</td>\n",
       "      <td id=\"T_71ad3_row2_col4\" class=\"data row2 col4\" >T</td>\n",
       "      <td id=\"T_71ad3_row2_col5\" class=\"data row2 col5\" >F</td>\n",
       "      <td id=\"T_71ad3_row2_col6\" class=\"data row2 col6\" >T</td>\n",
       "      <td id=\"T_71ad3_row2_col7\" class=\"data row2 col7\" >F</td>\n",
       "    </tr>\n",
       "    <tr>\n",
       "      <th id=\"T_71ad3_level0_row3\" class=\"row_heading level0 row3\" >3</th>\n",
       "      <td id=\"T_71ad3_row3_col0\" class=\"data row3 col0\" >T</td>\n",
       "      <td id=\"T_71ad3_row3_col1\" class=\"data row3 col1\" >T</td>\n",
       "      <td id=\"T_71ad3_row3_col2\" class=\"data row3 col2\" >F</td>\n",
       "      <td id=\"T_71ad3_row3_col3\" class=\"data row3 col3\" >T</td>\n",
       "      <td id=\"T_71ad3_row3_col4\" class=\"data row3 col4\" >T</td>\n",
       "      <td id=\"T_71ad3_row3_col5\" class=\"data row3 col5\" >T</td>\n",
       "      <td id=\"T_71ad3_row3_col6\" class=\"data row3 col6\" >T</td>\n",
       "      <td id=\"T_71ad3_row3_col7\" class=\"data row3 col7\" >T</td>\n",
       "    </tr>\n",
       "  </tbody>\n",
       "</table>\n"
      ],
      "text/plain": [
       "<pandas.io.formats.style.Styler at 0x215eee57c40>"
      ]
     },
     "execution_count": 11,
     "metadata": {},
     "output_type": "execute_result"
    }
   ],
   "source": [
    "# Define the symbols\n",
    "r, p, l, q = sp.symbols('r p l q')\n",
    "\n",
    "# Define the formulas in the knowledge base (KB)\n",
    "KB = [\n",
    "    Not(p),\n",
    "    Implies(p, q),\n",
    "    Implies(q, p),\n",
    "    And(p, q),\n",
    "    Or(p, q),\n",
    "    Equivalent(p, q)\n",
    "]\n",
    "\n",
    "# Compute and display the truth table for the given knowledge base\n",
    "la.compute_truth_table([p, q], KB)"
   ]
  },
  {
   "cell_type": "markdown",
   "metadata": {},
   "source": [
    "## Revision of a Belief Base"
   ]
  },
  {
   "cell_type": "code",
   "execution_count": 12,
   "metadata": {},
   "outputs": [
    {
     "name": "stdout",
     "output_type": "stream",
     "text": [
      "The belief base with the new belief is INCONSISTENT. Applying contraction...\n",
      "Belief set 1:\n",
      "~q\n",
      "q\n",
      "p\n",
      "Implies(p, q)\n",
      "------------------------------\n"
     ]
    }
   ],
   "source": [
    "# Define the symbols\n",
    "p, q, r = sp.symbols('p q r')\n",
    "\n",
    "# Define a belief base\n",
    "belief_base = {p, q, Implies(p, q)}\n",
    "\n",
    "# New belief\n",
    "new_belief = Not(q)\n",
    "\n",
    "# Check if adding the new belief keeps the belief base consistent\n",
    "belief_base_with_new = belief_base | {new_belief}\n",
    "\n",
    "if la.check_consistency(belief_base_with_new):\n",
    "    print(\"The belief base with the new belief is CONSISTENT.\")\n",
    "    belief_base = belief_base_with_new\n",
    "else:\n",
    "    print(\"The belief base with the new belief is INCONSISTENT. Applying contraction...\")\n",
    "    # Apply contraction to make belief_base consistent with new_belief\n",
    "    contracted_bases = la.contract_belief_base(belief_base, new_belief)\n",
    "    # Each subset is a possible consistent belief base with the new belief\n",
    "    for i, contracted_base in enumerate(contracted_bases):\n",
    "        belief_base = set(contracted_base)\n",
    "        belief_base.add(new_belief)\n",
    "        # Display each consistent belief base\n",
    "        print(f\"Belief set {i + 1}:\")\n",
    "        for belief in belief_base:\n",
    "            print(belief)\n",
    "        print(\"-\" * 30)"
   ]
  },
  {
   "cell_type": "markdown",
   "metadata": {},
   "source": [
    "## Revision of formulas"
   ]
  },
  {
   "cell_type": "code",
   "execution_count": 13,
   "metadata": {},
   "outputs": [
    {
     "name": "stdout",
     "output_type": "stream",
     "text": [
      "Results of the belief revision with ¬p (simplification):\n",
      "p -> q: True\n",
      "q -> p: ~q\n",
      "p ∧ q: False\n",
      "p ∨ q: q\n",
      "p ↔ q: ~q\n"
     ]
    },
    {
     "data": {
      "text/html": [
       "<style type=\"text/css\">\n",
       "#T_d1a1d_row0_col0, #T_d1a1d_row0_col1, #T_d1a1d_row0_col5, #T_d1a1d_row0_col6, #T_d1a1d_row0_col10, #T_d1a1d_row0_col11, #T_d1a1d_row1_col0, #T_d1a1d_row1_col4, #T_d1a1d_row1_col5, #T_d1a1d_row1_col7, #T_d1a1d_row1_col9, #T_d1a1d_row1_col10, #T_d1a1d_row1_col12, #T_d1a1d_row2_col1, #T_d1a1d_row2_col2, #T_d1a1d_row2_col3, #T_d1a1d_row2_col5, #T_d1a1d_row2_col7, #T_d1a1d_row2_col10, #T_d1a1d_row2_col11, #T_d1a1d_row3_col2, #T_d1a1d_row3_col9, #T_d1a1d_row3_col10, #T_d1a1d_row3_col12 {\n",
       "  background-color: lightcoral;\n",
       "  color: white;\n",
       "}\n",
       "#T_d1a1d_row0_col2, #T_d1a1d_row0_col3, #T_d1a1d_row0_col4, #T_d1a1d_row0_col7, #T_d1a1d_row0_col8, #T_d1a1d_row0_col9, #T_d1a1d_row0_col12, #T_d1a1d_row1_col1, #T_d1a1d_row1_col2, #T_d1a1d_row1_col3, #T_d1a1d_row1_col6, #T_d1a1d_row1_col8, #T_d1a1d_row1_col11, #T_d1a1d_row2_col0, #T_d1a1d_row2_col4, #T_d1a1d_row2_col6, #T_d1a1d_row2_col8, #T_d1a1d_row2_col9, #T_d1a1d_row2_col12, #T_d1a1d_row3_col0, #T_d1a1d_row3_col1, #T_d1a1d_row3_col3, #T_d1a1d_row3_col4, #T_d1a1d_row3_col5, #T_d1a1d_row3_col6, #T_d1a1d_row3_col7, #T_d1a1d_row3_col8, #T_d1a1d_row3_col11 {\n",
       "  background-color: lightgreen;\n",
       "  color: white;\n",
       "}\n",
       "</style>\n",
       "<table id=\"T_d1a1d\">\n",
       "  <thead>\n",
       "    <tr>\n",
       "      <th class=\"blank level0\" >&nbsp;</th>\n",
       "      <th id=\"T_d1a1d_level0_col0\" class=\"col_heading level0 col0\" >p</th>\n",
       "      <th id=\"T_d1a1d_level0_col1\" class=\"col_heading level0 col1\" >q</th>\n",
       "      <th id=\"T_d1a1d_level0_col2\" class=\"col_heading level0 col2\" >Belief Revision: ¬p</th>\n",
       "      <th id=\"T_d1a1d_level0_col3\" class=\"col_heading level0 col3\" >p -> q</th>\n",
       "      <th id=\"T_d1a1d_level0_col4\" class=\"col_heading level0 col4\" >q -> p</th>\n",
       "      <th id=\"T_d1a1d_level0_col5\" class=\"col_heading level0 col5\" >p ∧ q</th>\n",
       "      <th id=\"T_d1a1d_level0_col6\" class=\"col_heading level0 col6\" >p ∨ q</th>\n",
       "      <th id=\"T_d1a1d_level0_col7\" class=\"col_heading level0 col7\" >p ↔ q</th>\n",
       "      <th id=\"T_d1a1d_level0_col8\" class=\"col_heading level0 col8\" >After ¬p: p -> q</th>\n",
       "      <th id=\"T_d1a1d_level0_col9\" class=\"col_heading level0 col9\" >After ¬p: q -> p</th>\n",
       "      <th id=\"T_d1a1d_level0_col10\" class=\"col_heading level0 col10\" >After ¬p: p ∧ q</th>\n",
       "      <th id=\"T_d1a1d_level0_col11\" class=\"col_heading level0 col11\" >After ¬p: p ∨ q</th>\n",
       "      <th id=\"T_d1a1d_level0_col12\" class=\"col_heading level0 col12\" >After ¬p: p ↔ q</th>\n",
       "    </tr>\n",
       "  </thead>\n",
       "  <tbody>\n",
       "    <tr>\n",
       "      <th id=\"T_d1a1d_level0_row0\" class=\"row_heading level0 row0\" >0</th>\n",
       "      <td id=\"T_d1a1d_row0_col0\" class=\"data row0 col0\" >F</td>\n",
       "      <td id=\"T_d1a1d_row0_col1\" class=\"data row0 col1\" >F</td>\n",
       "      <td id=\"T_d1a1d_row0_col2\" class=\"data row0 col2\" >T</td>\n",
       "      <td id=\"T_d1a1d_row0_col3\" class=\"data row0 col3\" >T</td>\n",
       "      <td id=\"T_d1a1d_row0_col4\" class=\"data row0 col4\" >T</td>\n",
       "      <td id=\"T_d1a1d_row0_col5\" class=\"data row0 col5\" >F</td>\n",
       "      <td id=\"T_d1a1d_row0_col6\" class=\"data row0 col6\" >F</td>\n",
       "      <td id=\"T_d1a1d_row0_col7\" class=\"data row0 col7\" >T</td>\n",
       "      <td id=\"T_d1a1d_row0_col8\" class=\"data row0 col8\" >T</td>\n",
       "      <td id=\"T_d1a1d_row0_col9\" class=\"data row0 col9\" >T</td>\n",
       "      <td id=\"T_d1a1d_row0_col10\" class=\"data row0 col10\" >F</td>\n",
       "      <td id=\"T_d1a1d_row0_col11\" class=\"data row0 col11\" >F</td>\n",
       "      <td id=\"T_d1a1d_row0_col12\" class=\"data row0 col12\" >T</td>\n",
       "    </tr>\n",
       "    <tr>\n",
       "      <th id=\"T_d1a1d_level0_row1\" class=\"row_heading level0 row1\" >1</th>\n",
       "      <td id=\"T_d1a1d_row1_col0\" class=\"data row1 col0\" >F</td>\n",
       "      <td id=\"T_d1a1d_row1_col1\" class=\"data row1 col1\" >T</td>\n",
       "      <td id=\"T_d1a1d_row1_col2\" class=\"data row1 col2\" >T</td>\n",
       "      <td id=\"T_d1a1d_row1_col3\" class=\"data row1 col3\" >T</td>\n",
       "      <td id=\"T_d1a1d_row1_col4\" class=\"data row1 col4\" >F</td>\n",
       "      <td id=\"T_d1a1d_row1_col5\" class=\"data row1 col5\" >F</td>\n",
       "      <td id=\"T_d1a1d_row1_col6\" class=\"data row1 col6\" >T</td>\n",
       "      <td id=\"T_d1a1d_row1_col7\" class=\"data row1 col7\" >F</td>\n",
       "      <td id=\"T_d1a1d_row1_col8\" class=\"data row1 col8\" >T</td>\n",
       "      <td id=\"T_d1a1d_row1_col9\" class=\"data row1 col9\" >F</td>\n",
       "      <td id=\"T_d1a1d_row1_col10\" class=\"data row1 col10\" >F</td>\n",
       "      <td id=\"T_d1a1d_row1_col11\" class=\"data row1 col11\" >T</td>\n",
       "      <td id=\"T_d1a1d_row1_col12\" class=\"data row1 col12\" >F</td>\n",
       "    </tr>\n",
       "    <tr>\n",
       "      <th id=\"T_d1a1d_level0_row2\" class=\"row_heading level0 row2\" >2</th>\n",
       "      <td id=\"T_d1a1d_row2_col0\" class=\"data row2 col0\" >T</td>\n",
       "      <td id=\"T_d1a1d_row2_col1\" class=\"data row2 col1\" >F</td>\n",
       "      <td id=\"T_d1a1d_row2_col2\" class=\"data row2 col2\" >F</td>\n",
       "      <td id=\"T_d1a1d_row2_col3\" class=\"data row2 col3\" >F</td>\n",
       "      <td id=\"T_d1a1d_row2_col4\" class=\"data row2 col4\" >T</td>\n",
       "      <td id=\"T_d1a1d_row2_col5\" class=\"data row2 col5\" >F</td>\n",
       "      <td id=\"T_d1a1d_row2_col6\" class=\"data row2 col6\" >T</td>\n",
       "      <td id=\"T_d1a1d_row2_col7\" class=\"data row2 col7\" >F</td>\n",
       "      <td id=\"T_d1a1d_row2_col8\" class=\"data row2 col8\" >T</td>\n",
       "      <td id=\"T_d1a1d_row2_col9\" class=\"data row2 col9\" >T</td>\n",
       "      <td id=\"T_d1a1d_row2_col10\" class=\"data row2 col10\" >F</td>\n",
       "      <td id=\"T_d1a1d_row2_col11\" class=\"data row2 col11\" >F</td>\n",
       "      <td id=\"T_d1a1d_row2_col12\" class=\"data row2 col12\" >T</td>\n",
       "    </tr>\n",
       "    <tr>\n",
       "      <th id=\"T_d1a1d_level0_row3\" class=\"row_heading level0 row3\" >3</th>\n",
       "      <td id=\"T_d1a1d_row3_col0\" class=\"data row3 col0\" >T</td>\n",
       "      <td id=\"T_d1a1d_row3_col1\" class=\"data row3 col1\" >T</td>\n",
       "      <td id=\"T_d1a1d_row3_col2\" class=\"data row3 col2\" >F</td>\n",
       "      <td id=\"T_d1a1d_row3_col3\" class=\"data row3 col3\" >T</td>\n",
       "      <td id=\"T_d1a1d_row3_col4\" class=\"data row3 col4\" >T</td>\n",
       "      <td id=\"T_d1a1d_row3_col5\" class=\"data row3 col5\" >T</td>\n",
       "      <td id=\"T_d1a1d_row3_col6\" class=\"data row3 col6\" >T</td>\n",
       "      <td id=\"T_d1a1d_row3_col7\" class=\"data row3 col7\" >T</td>\n",
       "      <td id=\"T_d1a1d_row3_col8\" class=\"data row3 col8\" >T</td>\n",
       "      <td id=\"T_d1a1d_row3_col9\" class=\"data row3 col9\" >F</td>\n",
       "      <td id=\"T_d1a1d_row3_col10\" class=\"data row3 col10\" >F</td>\n",
       "      <td id=\"T_d1a1d_row3_col11\" class=\"data row3 col11\" >T</td>\n",
       "      <td id=\"T_d1a1d_row3_col12\" class=\"data row3 col12\" >F</td>\n",
       "    </tr>\n",
       "  </tbody>\n",
       "</table>\n"
      ],
      "text/plain": [
       "<pandas.io.formats.style.Styler at 0x215eee63580>"
      ]
     },
     "execution_count": 13,
     "metadata": {},
     "output_type": "execute_result"
    }
   ],
   "source": [
    "# Define the symbols\n",
    "p, q = sp.symbols('p q')\n",
    "\n",
    "# Define the formulas\n",
    "formulas = {\n",
    "    'p -> q': sp.Implies(p, q),\n",
    "    'q -> p': sp.Implies(q, p),\n",
    "    'p ∧ q': sp.And(p, q),\n",
    "    'p ∨ q': sp.Or(p, q),\n",
    "    'p ↔ q': sp.Equivalent(p, q)\n",
    "}\n",
    "\n",
    "# Given belief set revision with ¬p\n",
    "belief_revision = sp.Not(p)\n",
    "\n",
    "# Check each formula against the revised belief set\n",
    "results = {}\n",
    "for formula, expr in formulas.items():\n",
    "    # Substitute ¬p into the expression\n",
    "    revised_expr = expr.subs(p, False)\n",
    "    # Evaluate the revised expression\n",
    "    result = sp.simplify(revised_expr)\n",
    "    results[formula] = result\n",
    "\n",
    "# Print the results\n",
    "print(\"Results of the belief revision with ¬p (simplification):\")\n",
    "for formula, result in results.items():\n",
    "    print(f\"{formula}: {result}\")\n",
    "\n",
    "# Compute and display the belief revision table\n",
    "styled_table = la.compute_belief_revision_table(formulas, belief_revision)\n",
    "styled_table\n"
   ]
  },
  {
   "cell_type": "markdown",
   "metadata": {},
   "source": [
    "## Contraction"
   ]
  },
  {
   "cell_type": "markdown",
   "metadata": {},
   "source": [
    "A contraction p (inverted T) is the set of maximal subsets of A that do not imply p."
   ]
  },
  {
   "cell_type": "code",
   "execution_count": 14,
   "metadata": {},
   "outputs": [
    {
     "name": "stdout",
     "output_type": "stream",
     "text": [
      "Belief set 1:\n",
      "Implies(p, q)\n",
      "------------------------------\n",
      "Belief set 2:\n",
      "p\n",
      "Implies(~p, q)\n",
      "------------------------------\n"
     ]
    }
   ],
   "source": [
    "# Define the symbols\n",
    "p, q = sp.symbols('p q')\n",
    "\n",
    "# Define the belief base and the proposition\n",
    "belief_base = {p, q, sp.Implies(p, q), sp.Implies(sp.Not(p), q)}\n",
    "proposition = q\n",
    "\n",
    "# Perform the contraction\n",
    "contracted_bases = la.bb_contraction(belief_base, proposition)\n",
    "\n",
    "# Each subset is a possible consistent belief base with the contraction\n",
    "for i, contracted_base in enumerate(contracted_bases):\n",
    "    belief_base = set(contracted_base)\n",
    "    # Display each consistent belief base\n",
    "    print(f\"Belief set {i + 1}:\")\n",
    "    for belief in belief_base:\n",
    "        print(belief)\n",
    "    print(\"-\" * 30)"
   ]
  },
  {
   "cell_type": "markdown",
   "metadata": {},
   "source": [
    "# Convert to CNF"
   ]
  },
  {
   "cell_type": "code",
   "execution_count": 15,
   "metadata": {},
   "outputs": [
    {
     "name": "stdout",
     "output_type": "stream",
     "text": [
      "Original Expression 1: Equivalent(a, c | e)\n",
      "CNF 1: (a | ~c) & (a | ~e) & (c | e | ~a)\n",
      "Original Expression 2: Implies(e, d)\n",
      "CNF 2: d | ~e\n",
      "Original Expression 3: Implies(b & f, ~c)\n",
      "CNF 3: ~b | ~c | ~f\n",
      "Original Expression 4: Implies(e, c)\n",
      "CNF 4: c | ~e\n",
      "Original Expression 5: Implies(c, f)\n",
      "CNF 5: f | ~c\n",
      "Original Expression 6: Implies(c, b)\n",
      "CNF 6: b | ~c\n",
      "Original Expression 7: Implies(r, p | s)\n",
      "CNF 7: p | s | ~r\n"
     ]
    }
   ],
   "source": [
    "# Define the symbols\n",
    "a, b, c, d, e, f, r, p, s = sp.symbols('a b c d e f r p s')\n",
    "\n",
    "# Define a list of logical expressions\n",
    "expressions = [\n",
    "    Equivalent(a, Or(c, e)),\n",
    "    Implies(e, d),\n",
    "    Implies(And(b, f), Not(c)),\n",
    "    Implies(e, c),\n",
    "    Implies(c, f),\n",
    "    Implies(c, b),\n",
    "    Implies(r, Or(p, s)),\n",
    "]\n",
    "\n",
    "\n",
    "# Convert the expressions to CNF\n",
    "cnf_expressions = la.convert_to_cnf(expressions)\n",
    "\n",
    "# Display the original and CNF expressions\n",
    "for i, expr in enumerate(expressions):\n",
    "    print(f\"Original Expression {i+1}: {expr}\")\n",
    "    print(f\"CNF {i+1}: {cnf_expressions[i]}\")"
   ]
  }
 ],
 "metadata": {
  "kernelspec": {
   "display_name": "course02502",
   "language": "python",
   "name": "python3"
  },
  "language_info": {
   "codemirror_mode": {
    "name": "ipython",
    "version": 3
   },
   "file_extension": ".py",
   "mimetype": "text/x-python",
   "name": "python",
   "nbconvert_exporter": "python",
   "pygments_lexer": "ipython3",
   "version": "3.9.17"
  }
 },
 "nbformat": 4,
 "nbformat_minor": 2
}

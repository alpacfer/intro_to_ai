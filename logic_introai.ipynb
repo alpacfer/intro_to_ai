{
 "cells": [
  {
   "cell_type": "code",
   "execution_count": 11,
   "metadata": {},
   "outputs": [],
   "source": [
    "# Import the custom library\n",
    "import logic_algorithms as la\n",
    "import sympy as sp\n",
    "from sympy.logic.boolalg import Implies, And, Or, Not, Equivalent"
   ]
  },
  {
   "cell_type": "markdown",
   "metadata": {},
   "source": [
    "# Define the plausability table"
   ]
  },
  {
   "cell_type": "code",
   "execution_count": 12,
   "metadata": {},
   "outputs": [
    {
     "name": "stdout",
     "output_type": "stream",
     "text": [
      "p, q: {'states': ['x'], 'order': 2}\n",
      "p, n_q: {'states': ['y'], 'order': 1}\n",
      "n_p, q: {'states': ['z'], 'order': 2}\n",
      "n_p, n_q: {'states': ['w'], 'order': 3}\n"
     ]
    }
   ],
   "source": [
    "# Define the table with the plausibility orders\n",
    "plausibility_table = {\n",
    "    'p, q': {'states': ['x'], 'order': 2},\n",
    "    'p, n_q': {'states': ['y'], 'order': 1},\n",
    "    'n_p, q': {'states': ['z'], 'order': 2},\n",
    "    'n_p, n_q': {'states': ['w'], 'order': 3}\n",
    "}\n",
    "\n",
    "# Print the table to verify\n",
    "for key, value in plausibility_table.items():\n",
    "    print(f\"{key}: {value}\")\n"
   ]
  },
  {
   "cell_type": "markdown",
   "metadata": {},
   "source": [
    "## Contraction"
   ]
  },
  {
   "cell_type": "code",
   "execution_count": 13,
   "metadata": {},
   "outputs": [
    {
     "name": "stdout",
     "output_type": "stream",
     "text": [
      "Contraction with p: (['y'], ['z'])\n",
      "Contraction with q: (['x'], ['y'])\n",
      "Contraction with n_p: (['z'], ['y'])\n",
      "Contraction with n_q: (['y'], ['x'])\n"
     ]
    }
   ],
   "source": [
    "# Results of the contraction\n",
    "print(\"Contraction with p: \" + str(la.contraction(plausibility_table, 'p')))\n",
    "print(\"Contraction with q: \" + str(la.contraction(plausibility_table, 'q')))\n",
    "print(\"Contraction with n_p: \" + str(la.contraction(plausibility_table, 'n_p')))\n",
    "print(\"Contraction with n_q: \" + str(la.contraction(plausibility_table, 'n_q')))"
   ]
  },
  {
   "cell_type": "markdown",
   "metadata": {},
   "source": [
    "## Revision"
   ]
  },
  {
   "cell_type": "code",
   "execution_count": 14,
   "metadata": {},
   "outputs": [
    {
     "name": "stdout",
     "output_type": "stream",
     "text": [
      "Revision with p: ['y']\n",
      "Revision with q: ['x']\n",
      "Revision with n_p: ['z']\n",
      "Revision with n_q: ['y']\n"
     ]
    }
   ],
   "source": [
    "# Results of the revision\n",
    "print(\"Revision with p: \" + str(la.revision(plausibility_table, 'p')))\n",
    "print(\"Revision with q: \" + str(la.revision(plausibility_table, 'q')))\n",
    "print(\"Revision with n_p: \" + str(la.revision(plausibility_table, 'n_p')))\n",
    "print(\"Revision with n_q: \" + str(la.revision(plausibility_table, 'n_q')))"
   ]
  },
  {
   "cell_type": "markdown",
   "metadata": {},
   "source": [
    "# Belief Base"
   ]
  },
  {
   "cell_type": "markdown",
   "metadata": {},
   "source": [
    "## Revision of a Belief Base"
   ]
  },
  {
   "cell_type": "code",
   "execution_count": 15,
   "metadata": {},
   "outputs": [
    {
     "name": "stdout",
     "output_type": "stream",
     "text": [
      "The belief base with the new belief is inconsistent. Applying contraction...\n",
      "New belief base:\n",
      "r\n",
      "~(q | r)\n"
     ]
    }
   ],
   "source": [
    "# Define the symbols\n",
    "p, q, r = sp.symbols('p q r')\n",
    "\n",
    "# Define a belief base\n",
    "belief_base = {p, q, r}\n",
    "\n",
    "# New belief\n",
    "new_belief = sp.Not(sp.Or(q, r))\n",
    "\n",
    "# Check if adding the new belief keeps the belief base consistent\n",
    "belief_base_with_new = belief_base | {new_belief}\n",
    "\n",
    "if la.is_consistent(belief_base_with_new):\n",
    "    print(\"The belief base with the new belief is consistent.\")\n",
    "    belief_base = belief_base_with_new\n",
    "else:\n",
    "    print(\"The belief base with the new belief is inconsistent. Applying contraction...\")\n",
    "    # Apply contraction\n",
    "    inconsistent_belief = sp.Or(p, q)\n",
    "    contracted_bases = la.bb_contraction(belief_base, inconsistent_belief)\n",
    "    belief_base = set(contracted_bases[0])\n",
    "    belief_base.add(new_belief)\n",
    "\n",
    "# Display the new belief base\n",
    "print(\"New belief base:\")\n",
    "for belief in belief_base:\n",
    "    print(belief)"
   ]
  },
  {
   "cell_type": "markdown",
   "metadata": {},
   "source": [
    "## Revision of formulas"
   ]
  },
  {
   "cell_type": "code",
   "execution_count": 16,
   "metadata": {},
   "outputs": [
    {
     "name": "stdout",
     "output_type": "stream",
     "text": [
      "Results of the belief revision with ¬p (simplification):\n",
      "p -> q: True\n",
      "q -> p: p | ~q\n",
      "p ∧ q: p\n",
      "p ∨ q: p | q\n",
      "p ↔ q: p | ~q\n"
     ]
    }
   ],
   "source": [
    "# Define the symbols\n",
    "p, q = sp.symbols('p q')\n",
    "\n",
    "# Define the formulas\n",
    "formulas = {\n",
    "    'p -> q': sp.Implies(p, q),\n",
    "    'q -> p': sp.Implies(q, p),\n",
    "    'p ∧ q': sp.And(p, q),\n",
    "    'p ∨ q': sp.Or(p, q),\n",
    "    'p ↔ q': sp.Equivalent(p, q)\n",
    "}\n",
    "\n",
    "# Given belief set revision with ¬p\n",
    "belief_revision = sp.Not(p)\n",
    "\n",
    "# Check each formula against the revised belief set\n",
    "results = {formula: sp.simplify(sp.Implies(belief_revision, expr)) for formula, expr in formulas.items()}\n",
    "\n",
    "# Print the results\n",
    "print(\"Results of the belief revision with ¬p (simplification):\")\n",
    "for formula, result in results.items():\n",
    "    print(f\"{formula}: {result}\")"
   ]
  },
  {
   "cell_type": "markdown",
   "metadata": {},
   "source": [
    "## Contraction"
   ]
  },
  {
   "cell_type": "code",
   "execution_count": 17,
   "metadata": {},
   "outputs": [
    {
     "name": "stdout",
     "output_type": "stream",
     "text": [
      "Maximal subset 1: {Implies(p, q)}\n",
      "Maximal subset 2: {p, Implies(~p, q)}\n"
     ]
    }
   ],
   "source": [
    "# Define the symbols\n",
    "p, q = sp.symbols('p q')\n",
    "\n",
    "# Define the belief base and the proposition\n",
    "belief_base = {p, q, Implies(p, q), Implies(Not(p), q)}\n",
    "proposition = q\n",
    "\n",
    "result = la.bb_contraction(belief_base, proposition)\n",
    "for i, subset in enumerate(result):\n",
    "    print(f\"Maximal subset {i+1}: {set(subset)}\")"
   ]
  },
  {
   "cell_type": "markdown",
   "metadata": {},
   "source": [
    "# Convert to CNF"
   ]
  },
  {
   "cell_type": "code",
   "execution_count": 18,
   "metadata": {},
   "outputs": [
    {
     "name": "stdout",
     "output_type": "stream",
     "text": [
      "Original Expression: Equivalent(r, p | s)\n",
      "CNF: (r | ~p) & (r | ~s) & (p | s | ~r)\n"
     ]
    }
   ],
   "source": [
    "# Example usage:\n",
    "p, s, r = sp.symbols('p s r')\n",
    "\n",
    "# Define a logical expression\n",
    "expression = sp.Equivalent(r, sp.Or(p, s))\n",
    "\n",
    "# Convert the expression to CNF\n",
    "cnf_expression = la.convert_to_cnf(expression)\n",
    "\n",
    "# Display the CNF\n",
    "print(\"Original Expression:\", expression)\n",
    "print(\"CNF:\", cnf_expression)"
   ]
  }
 ],
 "metadata": {
  "kernelspec": {
   "display_name": "course02502",
   "language": "python",
   "name": "python3"
  },
  "language_info": {
   "codemirror_mode": {
    "name": "ipython",
    "version": 3
   },
   "file_extension": ".py",
   "mimetype": "text/x-python",
   "name": "python",
   "nbconvert_exporter": "python",
   "pygments_lexer": "ipython3",
   "version": "3.9.17"
  }
 },
 "nbformat": 4,
 "nbformat_minor": 2
}

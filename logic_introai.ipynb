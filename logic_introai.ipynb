{
 "cells": [
  {
   "cell_type": "code",
   "execution_count": 1,
   "metadata": {},
   "outputs": [],
   "source": [
    "# Import the custom library\n",
    "import logic_algorithms as la\n",
    "import sympy as sp\n",
    "from sympy.logic.boolalg import Implies, And, Or, Not, Equivalent"
   ]
  },
  {
   "cell_type": "markdown",
   "metadata": {},
   "source": [
    "# Define the plausability table"
   ]
  },
  {
   "cell_type": "code",
   "execution_count": 2,
   "metadata": {},
   "outputs": [
    {
     "name": "stdout",
     "output_type": "stream",
     "text": [
      "p, q: {'states': ['x'], 'order': 2}\n",
      "p, n_q: {'states': ['y'], 'order': 1}\n",
      "n_p, q: {'states': ['z'], 'order': 2}\n",
      "n_p, n_q: {'states': ['w'], 'order': 3}\n"
     ]
    }
   ],
   "source": [
    "# Define the table with the plausibility orders\n",
    "plausibility_table = {\n",
    "    'p, q': {'states': ['x'], 'order': 2},\n",
    "    'p, n_q': {'states': ['y'], 'order': 1},\n",
    "    'n_p, q': {'states': ['z'], 'order': 2},\n",
    "    'n_p, n_q': {'states': ['w'], 'order': 3}\n",
    "}\n",
    "\n",
    "# Print the table to verify\n",
    "for key, value in plausibility_table.items():\n",
    "    print(f\"{key}: {value}\")\n"
   ]
  },
  {
   "cell_type": "markdown",
   "metadata": {},
   "source": [
    "# Contraction"
   ]
  },
  {
   "cell_type": "code",
   "execution_count": 3,
   "metadata": {},
   "outputs": [
    {
     "ename": "TypeError",
     "evalue": "unsupported operand type(s) for &: 'bool' and 'str'",
     "output_type": "error",
     "traceback": [
      "\u001b[1;31m---------------------------------------------------------------------------\u001b[0m",
      "\u001b[1;31mTypeError\u001b[0m                                 Traceback (most recent call last)",
      "Cell \u001b[1;32mIn[3], line 2\u001b[0m\n\u001b[0;32m      1\u001b[0m \u001b[38;5;66;03m# Results of the contraction\u001b[39;00m\n\u001b[1;32m----> 2\u001b[0m \u001b[38;5;28mprint\u001b[39m(\u001b[38;5;124m\"\u001b[39m\u001b[38;5;124mContraction with p: \u001b[39m\u001b[38;5;124m\"\u001b[39m \u001b[38;5;241m+\u001b[39m \u001b[38;5;28mstr\u001b[39m(\u001b[43mla\u001b[49m\u001b[38;5;241;43m.\u001b[39;49m\u001b[43mcontraction\u001b[49m\u001b[43m(\u001b[49m\u001b[43mplausibility_table\u001b[49m\u001b[43m,\u001b[49m\u001b[43m \u001b[49m\u001b[38;5;124;43m'\u001b[39;49m\u001b[38;5;124;43mp\u001b[39;49m\u001b[38;5;124;43m'\u001b[39;49m\u001b[43m)\u001b[49m))\n\u001b[0;32m      3\u001b[0m \u001b[38;5;28mprint\u001b[39m(\u001b[38;5;124m\"\u001b[39m\u001b[38;5;124mContraction with q: \u001b[39m\u001b[38;5;124m\"\u001b[39m \u001b[38;5;241m+\u001b[39m \u001b[38;5;28mstr\u001b[39m(la\u001b[38;5;241m.\u001b[39mcontraction(plausibility_table, \u001b[38;5;124m'\u001b[39m\u001b[38;5;124mq\u001b[39m\u001b[38;5;124m'\u001b[39m)))\n\u001b[0;32m      4\u001b[0m \u001b[38;5;28mprint\u001b[39m(\u001b[38;5;124m\"\u001b[39m\u001b[38;5;124mContraction with n_p: \u001b[39m\u001b[38;5;124m\"\u001b[39m \u001b[38;5;241m+\u001b[39m \u001b[38;5;28mstr\u001b[39m(la\u001b[38;5;241m.\u001b[39mcontraction(plausibility_table, \u001b[38;5;124m'\u001b[39m\u001b[38;5;124mn_p\u001b[39m\u001b[38;5;124m'\u001b[39m)))\n",
      "File \u001b[1;32mc:\\Users\\Alejandro\\Documents\\intro to AI exam\\intro_to_ai\\logic_algorithms.py:84\u001b[0m, in \u001b[0;36mcontraction\u001b[1;34m(belief_base, proposition)\u001b[0m\n\u001b[0;32m     82\u001b[0m \u001b[38;5;250m\u001b[39m\u001b[38;5;124;03m\"\"\"Find the maximal subsets of belief_base that do not imply proposition.\"\"\"\u001b[39;00m\n\u001b[0;32m     83\u001b[0m subsets_A \u001b[38;5;241m=\u001b[39m all_subsets(belief_base)\n\u001b[1;32m---> 84\u001b[0m candidate_subsets \u001b[38;5;241m=\u001b[39m [subset \u001b[38;5;28;01mfor\u001b[39;00m subset \u001b[38;5;129;01min\u001b[39;00m subsets_A \u001b[38;5;28;01mif\u001b[39;00m \u001b[38;5;129;01mnot\u001b[39;00m implies_q(subset, proposition)]\n\u001b[0;32m     85\u001b[0m A_contracted_q \u001b[38;5;241m=\u001b[39m maximal_subsets(candidate_subsets)\n\u001b[0;32m     86\u001b[0m \u001b[38;5;28;01mreturn\u001b[39;00m A_contracted_q\n",
      "File \u001b[1;32mc:\\Users\\Alejandro\\Documents\\intro to AI exam\\intro_to_ai\\logic_algorithms.py:84\u001b[0m, in \u001b[0;36m<listcomp>\u001b[1;34m(.0)\u001b[0m\n\u001b[0;32m     82\u001b[0m \u001b[38;5;250m\u001b[39m\u001b[38;5;124;03m\"\"\"Find the maximal subsets of belief_base that do not imply proposition.\"\"\"\u001b[39;00m\n\u001b[0;32m     83\u001b[0m subsets_A \u001b[38;5;241m=\u001b[39m all_subsets(belief_base)\n\u001b[1;32m---> 84\u001b[0m candidate_subsets \u001b[38;5;241m=\u001b[39m [subset \u001b[38;5;28;01mfor\u001b[39;00m subset \u001b[38;5;129;01min\u001b[39;00m subsets_A \u001b[38;5;28;01mif\u001b[39;00m \u001b[38;5;129;01mnot\u001b[39;00m \u001b[43mimplies_q\u001b[49m\u001b[43m(\u001b[49m\u001b[43msubset\u001b[49m\u001b[43m,\u001b[49m\u001b[43m \u001b[49m\u001b[43mproposition\u001b[49m\u001b[43m)\u001b[49m]\n\u001b[0;32m     85\u001b[0m A_contracted_q \u001b[38;5;241m=\u001b[39m maximal_subsets(candidate_subsets)\n\u001b[0;32m     86\u001b[0m \u001b[38;5;28;01mreturn\u001b[39;00m A_contracted_q\n",
      "File \u001b[1;32mc:\\Users\\Alejandro\\Documents\\intro to AI exam\\intro_to_ai\\logic_algorithms.py:64\u001b[0m, in \u001b[0;36mimplies_q\u001b[1;34m(subset, q)\u001b[0m\n\u001b[0;32m     62\u001b[0m conjunction \u001b[38;5;241m=\u001b[39m \u001b[38;5;28;01mTrue\u001b[39;00m\n\u001b[0;32m     63\u001b[0m \u001b[38;5;28;01mfor\u001b[39;00m expr \u001b[38;5;129;01min\u001b[39;00m subset:\n\u001b[1;32m---> 64\u001b[0m     conjunction \u001b[38;5;241m=\u001b[39m \u001b[43mconjunction\u001b[49m\u001b[43m \u001b[49m\u001b[38;5;241;43m&\u001b[39;49m\u001b[43m \u001b[49m\u001b[43mexpr\u001b[49m\n\u001b[0;32m     66\u001b[0m \u001b[38;5;66;03m# Check if conjunction implies q\u001b[39;00m\n\u001b[0;32m     67\u001b[0m \u001b[38;5;28;01mreturn\u001b[39;00m \u001b[38;5;129;01mnot\u001b[39;00m satisfiable(conjunction \u001b[38;5;241m&\u001b[39m Not(q))\n",
      "\u001b[1;31mTypeError\u001b[0m: unsupported operand type(s) for &: 'bool' and 'str'"
     ]
    }
   ],
   "source": [
    "# Results of the contraction\n",
    "print(\"Contraction with p: \" + str(la.contraction(plausibility_table, 'p')))\n",
    "print(\"Contraction with q: \" + str(la.contraction(plausibility_table, 'q')))\n",
    "print(\"Contraction with n_p: \" + str(la.contraction(plausibility_table, 'n_p')))\n",
    "print(\"Contraction with n_q: \" + str(la.contraction(plausibility_table, 'n_q')))"
   ]
  },
  {
   "cell_type": "markdown",
   "metadata": {},
   "source": [
    "# Revision"
   ]
  },
  {
   "cell_type": "code",
   "execution_count": null,
   "metadata": {},
   "outputs": [
    {
     "name": "stdout",
     "output_type": "stream",
     "text": [
      "Revision with p: ['y']\n",
      "Revision with q: ['x']\n",
      "Revision with n_p: ['z']\n",
      "Revision with n_q: ['y']\n"
     ]
    }
   ],
   "source": [
    "# Results of the revision\n",
    "print(\"Revision with p: \" + str(la.revision(plausibility_table, 'p')))\n",
    "print(\"Revision with q: \" + str(la.revision(plausibility_table, 'q')))\n",
    "print(\"Revision with n_p: \" + str(la.revision(plausibility_table, 'n_p')))\n",
    "print(\"Revision with n_q: \" + str(la.revision(plausibility_table, 'n_q')))"
   ]
  },
  {
   "cell_type": "markdown",
   "metadata": {},
   "source": [
    "# Check if a formula is on the belief set after revision with a proposition"
   ]
  },
  {
   "cell_type": "code",
   "execution_count": null,
   "metadata": {},
   "outputs": [
    {
     "name": "stdout",
     "output_type": "stream",
     "text": [
      "Results of the belief revision with ¬p (simplification):\n",
      "p -> q: True\n",
      "q -> p: p | ~q\n",
      "p ∧ q: p\n",
      "p ∨ q: p | q\n",
      "p ↔ q: p | ~q\n"
     ]
    }
   ],
   "source": [
    "# Define the symbols\n",
    "p, q = sp.symbols('p q')\n",
    "\n",
    "# Define the formulas\n",
    "formulas = {\n",
    "    'p -> q': sp.Implies(p, q),\n",
    "    'q -> p': sp.Implies(q, p),\n",
    "    'p ∧ q': sp.And(p, q),\n",
    "    'p ∨ q': sp.Or(p, q),\n",
    "    'p ↔ q': sp.Equivalent(p, q)\n",
    "}\n",
    "\n",
    "# Given belief set revision with ¬p\n",
    "belief_revision = sp.Not(p)\n",
    "\n",
    "# Check each formula against the revised belief set\n",
    "results = {formula: sp.simplify(sp.Implies(belief_revision, expr)) for formula, expr in formulas.items()}\n",
    "\n",
    "# Print the results\n",
    "print(\"Results of the belief revision with ¬p (simplification):\")\n",
    "for formula, result in results.items():\n",
    "    print(f\"{formula}: {result}\")"
   ]
  },
  {
   "cell_type": "code",
   "execution_count": null,
   "metadata": {},
   "outputs": [
    {
     "name": "stdout",
     "output_type": "stream",
     "text": [
      "Maximal subset 1: {Implies(p, q)}\n",
      "Maximal subset 2: {p, Implies(~p, q)}\n"
     ]
    }
   ],
   "source": [
    "p, q = sp.symbols('p q')\n",
    "belief_base = {p, q, Implies(p, q), Implies(Not(p), q)}\n",
    "proposition = q\n",
    "\n",
    "result = la.bb_contraction(belief_base, proposition)\n",
    "for i, subset in enumerate(result):\n",
    "    print(f\"Maximal subset {i+1}: {set(subset)}\")"
   ]
  }
 ],
 "metadata": {
  "kernelspec": {
   "display_name": "course02502",
   "language": "python",
   "name": "python3"
  },
  "language_info": {
   "codemirror_mode": {
    "name": "ipython",
    "version": 3
   },
   "file_extension": ".py",
   "mimetype": "text/x-python",
   "name": "python",
   "nbconvert_exporter": "python",
   "pygments_lexer": "ipython3",
   "version": "3.9.17"
  }
 },
 "nbformat": 4,
 "nbformat_minor": 2
}

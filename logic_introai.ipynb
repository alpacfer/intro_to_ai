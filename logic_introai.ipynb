{
 "cells": [
  {
   "cell_type": "code",
   "execution_count": 19,
   "metadata": {},
   "outputs": [],
   "source": [
    "# Import the custom library\n",
    "import logic_algorithms as la\n",
    "import sympy as sp\n",
    "from sympy.logic.boolalg import Implies, And, Or, Not, Equivalent"
   ]
  },
  {
   "cell_type": "markdown",
   "metadata": {},
   "source": [
    "# Define the plausability table"
   ]
  },
  {
   "cell_type": "code",
   "execution_count": 20,
   "metadata": {},
   "outputs": [
    {
     "name": "stdout",
     "output_type": "stream",
     "text": [
      "p, q: {'states': ['x'], 'order': 2}\n",
      "p, n_q: {'states': ['y'], 'order': 1}\n",
      "n_p, q: {'states': ['z'], 'order': 2}\n",
      "n_p, n_q: {'states': ['w'], 'order': 3}\n"
     ]
    }
   ],
   "source": [
    "# Define the table with the plausibility orders\n",
    "plausibility_table = {\n",
    "    'p, q': {'states': ['x'], 'order': 2},\n",
    "    'p, n_q': {'states': ['y'], 'order': 1},\n",
    "    'n_p, q': {'states': ['z'], 'order': 2},\n",
    "    'n_p, n_q': {'states': ['w'], 'order': 3}\n",
    "}\n",
    "\n",
    "# Print the table to verify\n",
    "for key, value in plausibility_table.items():\n",
    "    print(f\"{key}: {value}\")\n"
   ]
  },
  {
   "cell_type": "markdown",
   "metadata": {},
   "source": [
    "## Contraction"
   ]
  },
  {
   "cell_type": "code",
   "execution_count": 21,
   "metadata": {},
   "outputs": [
    {
     "name": "stdout",
     "output_type": "stream",
     "text": [
      "Contraction with p: (['y'], ['z'])\n",
      "Contraction with q: (['x'], ['y'])\n",
      "Contraction with n_p: (['z'], ['y'])\n",
      "Contraction with n_q: (['y'], ['x'])\n"
     ]
    }
   ],
   "source": [
    "# Results of the contraction\n",
    "print(\"Contraction with p: \" + str(la.contraction(plausibility_table, 'p')))\n",
    "print(\"Contraction with q: \" + str(la.contraction(plausibility_table, 'q')))\n",
    "print(\"Contraction with n_p: \" + str(la.contraction(plausibility_table, 'n_p')))\n",
    "print(\"Contraction with n_q: \" + str(la.contraction(plausibility_table, 'n_q')))"
   ]
  },
  {
   "cell_type": "markdown",
   "metadata": {},
   "source": [
    "## Revision"
   ]
  },
  {
   "cell_type": "code",
   "execution_count": 22,
   "metadata": {},
   "outputs": [
    {
     "name": "stdout",
     "output_type": "stream",
     "text": [
      "Revision with p: ['y']\n",
      "Revision with q: ['x']\n",
      "Revision with n_p: ['z']\n",
      "Revision with n_q: ['y']\n"
     ]
    }
   ],
   "source": [
    "# Results of the revision\n",
    "print(\"Revision with p: \" + str(la.revision(plausibility_table, 'p')))\n",
    "print(\"Revision with q: \" + str(la.revision(plausibility_table, 'q')))\n",
    "print(\"Revision with n_p: \" + str(la.revision(plausibility_table, 'n_p')))\n",
    "print(\"Revision with n_q: \" + str(la.revision(plausibility_table, 'n_q')))"
   ]
  },
  {
   "cell_type": "markdown",
   "metadata": {},
   "source": [
    "# Belief Base"
   ]
  },
  {
   "cell_type": "markdown",
   "metadata": {},
   "source": [
    "# Truth table"
   ]
  },
  {
   "cell_type": "code",
   "execution_count": 23,
   "metadata": {},
   "outputs": [
    {
     "data": {
      "text/html": [
       "<style type=\"text/css\">\n",
       "#T_b3937_row0_col0, #T_b3937_row0_col1, #T_b3937_row0_col2, #T_b3937_row0_col3, #T_b3937_row0_col4, #T_b3937_row0_col7, #T_b3937_row1_col0, #T_b3937_row1_col1, #T_b3937_row1_col2, #T_b3937_row1_col4, #T_b3937_row1_col7, #T_b3937_row2_col0, #T_b3937_row2_col1, #T_b3937_row2_col3, #T_b3937_row2_col4, #T_b3937_row2_col7, #T_b3937_row3_col0, #T_b3937_row3_col1, #T_b3937_row3_col4, #T_b3937_row3_col7, #T_b3937_row4_col0, #T_b3937_row4_col2, #T_b3937_row4_col3, #T_b3937_row4_col5, #T_b3937_row4_col7, #T_b3937_row5_col0, #T_b3937_row5_col2, #T_b3937_row5_col5, #T_b3937_row5_col7, #T_b3937_row6_col0, #T_b3937_row6_col3, #T_b3937_row6_col5, #T_b3937_row6_col7, #T_b3937_row7_col0, #T_b3937_row7_col5, #T_b3937_row7_col7, #T_b3937_row8_col1, #T_b3937_row8_col2, #T_b3937_row8_col3, #T_b3937_row8_col6, #T_b3937_row8_col7, #T_b3937_row9_col1, #T_b3937_row9_col2, #T_b3937_row9_col6, #T_b3937_row9_col7, #T_b3937_row10_col1, #T_b3937_row10_col3, #T_b3937_row10_col6, #T_b3937_row10_col7, #T_b3937_row11_col1, #T_b3937_row12_col2, #T_b3937_row12_col3, #T_b3937_row12_col6, #T_b3937_row12_col7, #T_b3937_row13_col2, #T_b3937_row13_col6, #T_b3937_row13_col7, #T_b3937_row14_col3, #T_b3937_row14_col6, #T_b3937_row14_col7 {\n",
       "  background-color: lightcoral;\n",
       "  color: white;\n",
       "}\n",
       "#T_b3937_row0_col5, #T_b3937_row0_col6, #T_b3937_row1_col3, #T_b3937_row1_col5, #T_b3937_row1_col6, #T_b3937_row2_col2, #T_b3937_row2_col5, #T_b3937_row2_col6, #T_b3937_row3_col2, #T_b3937_row3_col3, #T_b3937_row3_col5, #T_b3937_row3_col6, #T_b3937_row4_col1, #T_b3937_row4_col4, #T_b3937_row4_col6, #T_b3937_row5_col1, #T_b3937_row5_col3, #T_b3937_row5_col4, #T_b3937_row5_col6, #T_b3937_row6_col1, #T_b3937_row6_col2, #T_b3937_row6_col4, #T_b3937_row6_col6, #T_b3937_row7_col1, #T_b3937_row7_col2, #T_b3937_row7_col3, #T_b3937_row7_col4, #T_b3937_row7_col6, #T_b3937_row8_col0, #T_b3937_row8_col4, #T_b3937_row8_col5, #T_b3937_row9_col0, #T_b3937_row9_col3, #T_b3937_row9_col4, #T_b3937_row9_col5, #T_b3937_row10_col0, #T_b3937_row10_col2, #T_b3937_row10_col4, #T_b3937_row10_col5, #T_b3937_row11_col0, #T_b3937_row11_col2, #T_b3937_row11_col3, #T_b3937_row11_col4, #T_b3937_row11_col5, #T_b3937_row11_col6, #T_b3937_row11_col7, #T_b3937_row12_col0, #T_b3937_row12_col1, #T_b3937_row12_col4, #T_b3937_row12_col5, #T_b3937_row13_col0, #T_b3937_row13_col1, #T_b3937_row13_col3, #T_b3937_row13_col4, #T_b3937_row13_col5, #T_b3937_row14_col0, #T_b3937_row14_col1, #T_b3937_row14_col2, #T_b3937_row14_col4, #T_b3937_row14_col5, #T_b3937_row15_col0, #T_b3937_row15_col1, #T_b3937_row15_col2, #T_b3937_row15_col3, #T_b3937_row15_col4, #T_b3937_row15_col5, #T_b3937_row15_col6, #T_b3937_row15_col7 {\n",
       "  background-color: lightgreen;\n",
       "  color: white;\n",
       "}\n",
       "</style>\n",
       "<table id=\"T_b3937\">\n",
       "  <thead>\n",
       "    <tr>\n",
       "      <th class=\"blank level0\" >&nbsp;</th>\n",
       "      <th id=\"T_b3937_level0_col0\" class=\"col_heading level0 col0\" >p</th>\n",
       "      <th id=\"T_b3937_level0_col1\" class=\"col_heading level0 col1\" >q</th>\n",
       "      <th id=\"T_b3937_level0_col2\" class=\"col_heading level0 col2\" >r</th>\n",
       "      <th id=\"T_b3937_level0_col3\" class=\"col_heading level0 col3\" >s</th>\n",
       "      <th id=\"T_b3937_level0_col4\" class=\"col_heading level0 col4\" >Implies(~p, q)</th>\n",
       "      <th id=\"T_b3937_level0_col5\" class=\"col_heading level0 col5\" >Implies(q, p)</th>\n",
       "      <th id=\"T_b3937_level0_col6\" class=\"col_heading level0 col6\" >Implies(p, r & s)</th>\n",
       "      <th id=\"T_b3937_level0_col7\" class=\"col_heading level0 col7\" >p & r & s</th>\n",
       "    </tr>\n",
       "  </thead>\n",
       "  <tbody>\n",
       "    <tr>\n",
       "      <th id=\"T_b3937_level0_row0\" class=\"row_heading level0 row0\" >0</th>\n",
       "      <td id=\"T_b3937_row0_col0\" class=\"data row0 col0\" >F</td>\n",
       "      <td id=\"T_b3937_row0_col1\" class=\"data row0 col1\" >F</td>\n",
       "      <td id=\"T_b3937_row0_col2\" class=\"data row0 col2\" >F</td>\n",
       "      <td id=\"T_b3937_row0_col3\" class=\"data row0 col3\" >F</td>\n",
       "      <td id=\"T_b3937_row0_col4\" class=\"data row0 col4\" >F</td>\n",
       "      <td id=\"T_b3937_row0_col5\" class=\"data row0 col5\" >T</td>\n",
       "      <td id=\"T_b3937_row0_col6\" class=\"data row0 col6\" >T</td>\n",
       "      <td id=\"T_b3937_row0_col7\" class=\"data row0 col7\" >F</td>\n",
       "    </tr>\n",
       "    <tr>\n",
       "      <th id=\"T_b3937_level0_row1\" class=\"row_heading level0 row1\" >1</th>\n",
       "      <td id=\"T_b3937_row1_col0\" class=\"data row1 col0\" >F</td>\n",
       "      <td id=\"T_b3937_row1_col1\" class=\"data row1 col1\" >F</td>\n",
       "      <td id=\"T_b3937_row1_col2\" class=\"data row1 col2\" >F</td>\n",
       "      <td id=\"T_b3937_row1_col3\" class=\"data row1 col3\" >T</td>\n",
       "      <td id=\"T_b3937_row1_col4\" class=\"data row1 col4\" >F</td>\n",
       "      <td id=\"T_b3937_row1_col5\" class=\"data row1 col5\" >T</td>\n",
       "      <td id=\"T_b3937_row1_col6\" class=\"data row1 col6\" >T</td>\n",
       "      <td id=\"T_b3937_row1_col7\" class=\"data row1 col7\" >F</td>\n",
       "    </tr>\n",
       "    <tr>\n",
       "      <th id=\"T_b3937_level0_row2\" class=\"row_heading level0 row2\" >2</th>\n",
       "      <td id=\"T_b3937_row2_col0\" class=\"data row2 col0\" >F</td>\n",
       "      <td id=\"T_b3937_row2_col1\" class=\"data row2 col1\" >F</td>\n",
       "      <td id=\"T_b3937_row2_col2\" class=\"data row2 col2\" >T</td>\n",
       "      <td id=\"T_b3937_row2_col3\" class=\"data row2 col3\" >F</td>\n",
       "      <td id=\"T_b3937_row2_col4\" class=\"data row2 col4\" >F</td>\n",
       "      <td id=\"T_b3937_row2_col5\" class=\"data row2 col5\" >T</td>\n",
       "      <td id=\"T_b3937_row2_col6\" class=\"data row2 col6\" >T</td>\n",
       "      <td id=\"T_b3937_row2_col7\" class=\"data row2 col7\" >F</td>\n",
       "    </tr>\n",
       "    <tr>\n",
       "      <th id=\"T_b3937_level0_row3\" class=\"row_heading level0 row3\" >3</th>\n",
       "      <td id=\"T_b3937_row3_col0\" class=\"data row3 col0\" >F</td>\n",
       "      <td id=\"T_b3937_row3_col1\" class=\"data row3 col1\" >F</td>\n",
       "      <td id=\"T_b3937_row3_col2\" class=\"data row3 col2\" >T</td>\n",
       "      <td id=\"T_b3937_row3_col3\" class=\"data row3 col3\" >T</td>\n",
       "      <td id=\"T_b3937_row3_col4\" class=\"data row3 col4\" >F</td>\n",
       "      <td id=\"T_b3937_row3_col5\" class=\"data row3 col5\" >T</td>\n",
       "      <td id=\"T_b3937_row3_col6\" class=\"data row3 col6\" >T</td>\n",
       "      <td id=\"T_b3937_row3_col7\" class=\"data row3 col7\" >F</td>\n",
       "    </tr>\n",
       "    <tr>\n",
       "      <th id=\"T_b3937_level0_row4\" class=\"row_heading level0 row4\" >4</th>\n",
       "      <td id=\"T_b3937_row4_col0\" class=\"data row4 col0\" >F</td>\n",
       "      <td id=\"T_b3937_row4_col1\" class=\"data row4 col1\" >T</td>\n",
       "      <td id=\"T_b3937_row4_col2\" class=\"data row4 col2\" >F</td>\n",
       "      <td id=\"T_b3937_row4_col3\" class=\"data row4 col3\" >F</td>\n",
       "      <td id=\"T_b3937_row4_col4\" class=\"data row4 col4\" >T</td>\n",
       "      <td id=\"T_b3937_row4_col5\" class=\"data row4 col5\" >F</td>\n",
       "      <td id=\"T_b3937_row4_col6\" class=\"data row4 col6\" >T</td>\n",
       "      <td id=\"T_b3937_row4_col7\" class=\"data row4 col7\" >F</td>\n",
       "    </tr>\n",
       "    <tr>\n",
       "      <th id=\"T_b3937_level0_row5\" class=\"row_heading level0 row5\" >5</th>\n",
       "      <td id=\"T_b3937_row5_col0\" class=\"data row5 col0\" >F</td>\n",
       "      <td id=\"T_b3937_row5_col1\" class=\"data row5 col1\" >T</td>\n",
       "      <td id=\"T_b3937_row5_col2\" class=\"data row5 col2\" >F</td>\n",
       "      <td id=\"T_b3937_row5_col3\" class=\"data row5 col3\" >T</td>\n",
       "      <td id=\"T_b3937_row5_col4\" class=\"data row5 col4\" >T</td>\n",
       "      <td id=\"T_b3937_row5_col5\" class=\"data row5 col5\" >F</td>\n",
       "      <td id=\"T_b3937_row5_col6\" class=\"data row5 col6\" >T</td>\n",
       "      <td id=\"T_b3937_row5_col7\" class=\"data row5 col7\" >F</td>\n",
       "    </tr>\n",
       "    <tr>\n",
       "      <th id=\"T_b3937_level0_row6\" class=\"row_heading level0 row6\" >6</th>\n",
       "      <td id=\"T_b3937_row6_col0\" class=\"data row6 col0\" >F</td>\n",
       "      <td id=\"T_b3937_row6_col1\" class=\"data row6 col1\" >T</td>\n",
       "      <td id=\"T_b3937_row6_col2\" class=\"data row6 col2\" >T</td>\n",
       "      <td id=\"T_b3937_row6_col3\" class=\"data row6 col3\" >F</td>\n",
       "      <td id=\"T_b3937_row6_col4\" class=\"data row6 col4\" >T</td>\n",
       "      <td id=\"T_b3937_row6_col5\" class=\"data row6 col5\" >F</td>\n",
       "      <td id=\"T_b3937_row6_col6\" class=\"data row6 col6\" >T</td>\n",
       "      <td id=\"T_b3937_row6_col7\" class=\"data row6 col7\" >F</td>\n",
       "    </tr>\n",
       "    <tr>\n",
       "      <th id=\"T_b3937_level0_row7\" class=\"row_heading level0 row7\" >7</th>\n",
       "      <td id=\"T_b3937_row7_col0\" class=\"data row7 col0\" >F</td>\n",
       "      <td id=\"T_b3937_row7_col1\" class=\"data row7 col1\" >T</td>\n",
       "      <td id=\"T_b3937_row7_col2\" class=\"data row7 col2\" >T</td>\n",
       "      <td id=\"T_b3937_row7_col3\" class=\"data row7 col3\" >T</td>\n",
       "      <td id=\"T_b3937_row7_col4\" class=\"data row7 col4\" >T</td>\n",
       "      <td id=\"T_b3937_row7_col5\" class=\"data row7 col5\" >F</td>\n",
       "      <td id=\"T_b3937_row7_col6\" class=\"data row7 col6\" >T</td>\n",
       "      <td id=\"T_b3937_row7_col7\" class=\"data row7 col7\" >F</td>\n",
       "    </tr>\n",
       "    <tr>\n",
       "      <th id=\"T_b3937_level0_row8\" class=\"row_heading level0 row8\" >8</th>\n",
       "      <td id=\"T_b3937_row8_col0\" class=\"data row8 col0\" >T</td>\n",
       "      <td id=\"T_b3937_row8_col1\" class=\"data row8 col1\" >F</td>\n",
       "      <td id=\"T_b3937_row8_col2\" class=\"data row8 col2\" >F</td>\n",
       "      <td id=\"T_b3937_row8_col3\" class=\"data row8 col3\" >F</td>\n",
       "      <td id=\"T_b3937_row8_col4\" class=\"data row8 col4\" >T</td>\n",
       "      <td id=\"T_b3937_row8_col5\" class=\"data row8 col5\" >T</td>\n",
       "      <td id=\"T_b3937_row8_col6\" class=\"data row8 col6\" >F</td>\n",
       "      <td id=\"T_b3937_row8_col7\" class=\"data row8 col7\" >F</td>\n",
       "    </tr>\n",
       "    <tr>\n",
       "      <th id=\"T_b3937_level0_row9\" class=\"row_heading level0 row9\" >9</th>\n",
       "      <td id=\"T_b3937_row9_col0\" class=\"data row9 col0\" >T</td>\n",
       "      <td id=\"T_b3937_row9_col1\" class=\"data row9 col1\" >F</td>\n",
       "      <td id=\"T_b3937_row9_col2\" class=\"data row9 col2\" >F</td>\n",
       "      <td id=\"T_b3937_row9_col3\" class=\"data row9 col3\" >T</td>\n",
       "      <td id=\"T_b3937_row9_col4\" class=\"data row9 col4\" >T</td>\n",
       "      <td id=\"T_b3937_row9_col5\" class=\"data row9 col5\" >T</td>\n",
       "      <td id=\"T_b3937_row9_col6\" class=\"data row9 col6\" >F</td>\n",
       "      <td id=\"T_b3937_row9_col7\" class=\"data row9 col7\" >F</td>\n",
       "    </tr>\n",
       "    <tr>\n",
       "      <th id=\"T_b3937_level0_row10\" class=\"row_heading level0 row10\" >10</th>\n",
       "      <td id=\"T_b3937_row10_col0\" class=\"data row10 col0\" >T</td>\n",
       "      <td id=\"T_b3937_row10_col1\" class=\"data row10 col1\" >F</td>\n",
       "      <td id=\"T_b3937_row10_col2\" class=\"data row10 col2\" >T</td>\n",
       "      <td id=\"T_b3937_row10_col3\" class=\"data row10 col3\" >F</td>\n",
       "      <td id=\"T_b3937_row10_col4\" class=\"data row10 col4\" >T</td>\n",
       "      <td id=\"T_b3937_row10_col5\" class=\"data row10 col5\" >T</td>\n",
       "      <td id=\"T_b3937_row10_col6\" class=\"data row10 col6\" >F</td>\n",
       "      <td id=\"T_b3937_row10_col7\" class=\"data row10 col7\" >F</td>\n",
       "    </tr>\n",
       "    <tr>\n",
       "      <th id=\"T_b3937_level0_row11\" class=\"row_heading level0 row11\" >11</th>\n",
       "      <td id=\"T_b3937_row11_col0\" class=\"data row11 col0\" >T</td>\n",
       "      <td id=\"T_b3937_row11_col1\" class=\"data row11 col1\" >F</td>\n",
       "      <td id=\"T_b3937_row11_col2\" class=\"data row11 col2\" >T</td>\n",
       "      <td id=\"T_b3937_row11_col3\" class=\"data row11 col3\" >T</td>\n",
       "      <td id=\"T_b3937_row11_col4\" class=\"data row11 col4\" >T</td>\n",
       "      <td id=\"T_b3937_row11_col5\" class=\"data row11 col5\" >T</td>\n",
       "      <td id=\"T_b3937_row11_col6\" class=\"data row11 col6\" >T</td>\n",
       "      <td id=\"T_b3937_row11_col7\" class=\"data row11 col7\" >T</td>\n",
       "    </tr>\n",
       "    <tr>\n",
       "      <th id=\"T_b3937_level0_row12\" class=\"row_heading level0 row12\" >12</th>\n",
       "      <td id=\"T_b3937_row12_col0\" class=\"data row12 col0\" >T</td>\n",
       "      <td id=\"T_b3937_row12_col1\" class=\"data row12 col1\" >T</td>\n",
       "      <td id=\"T_b3937_row12_col2\" class=\"data row12 col2\" >F</td>\n",
       "      <td id=\"T_b3937_row12_col3\" class=\"data row12 col3\" >F</td>\n",
       "      <td id=\"T_b3937_row12_col4\" class=\"data row12 col4\" >T</td>\n",
       "      <td id=\"T_b3937_row12_col5\" class=\"data row12 col5\" >T</td>\n",
       "      <td id=\"T_b3937_row12_col6\" class=\"data row12 col6\" >F</td>\n",
       "      <td id=\"T_b3937_row12_col7\" class=\"data row12 col7\" >F</td>\n",
       "    </tr>\n",
       "    <tr>\n",
       "      <th id=\"T_b3937_level0_row13\" class=\"row_heading level0 row13\" >13</th>\n",
       "      <td id=\"T_b3937_row13_col0\" class=\"data row13 col0\" >T</td>\n",
       "      <td id=\"T_b3937_row13_col1\" class=\"data row13 col1\" >T</td>\n",
       "      <td id=\"T_b3937_row13_col2\" class=\"data row13 col2\" >F</td>\n",
       "      <td id=\"T_b3937_row13_col3\" class=\"data row13 col3\" >T</td>\n",
       "      <td id=\"T_b3937_row13_col4\" class=\"data row13 col4\" >T</td>\n",
       "      <td id=\"T_b3937_row13_col5\" class=\"data row13 col5\" >T</td>\n",
       "      <td id=\"T_b3937_row13_col6\" class=\"data row13 col6\" >F</td>\n",
       "      <td id=\"T_b3937_row13_col7\" class=\"data row13 col7\" >F</td>\n",
       "    </tr>\n",
       "    <tr>\n",
       "      <th id=\"T_b3937_level0_row14\" class=\"row_heading level0 row14\" >14</th>\n",
       "      <td id=\"T_b3937_row14_col0\" class=\"data row14 col0\" >T</td>\n",
       "      <td id=\"T_b3937_row14_col1\" class=\"data row14 col1\" >T</td>\n",
       "      <td id=\"T_b3937_row14_col2\" class=\"data row14 col2\" >T</td>\n",
       "      <td id=\"T_b3937_row14_col3\" class=\"data row14 col3\" >F</td>\n",
       "      <td id=\"T_b3937_row14_col4\" class=\"data row14 col4\" >T</td>\n",
       "      <td id=\"T_b3937_row14_col5\" class=\"data row14 col5\" >T</td>\n",
       "      <td id=\"T_b3937_row14_col6\" class=\"data row14 col6\" >F</td>\n",
       "      <td id=\"T_b3937_row14_col7\" class=\"data row14 col7\" >F</td>\n",
       "    </tr>\n",
       "    <tr>\n",
       "      <th id=\"T_b3937_level0_row15\" class=\"row_heading level0 row15\" >15</th>\n",
       "      <td id=\"T_b3937_row15_col0\" class=\"data row15 col0\" >T</td>\n",
       "      <td id=\"T_b3937_row15_col1\" class=\"data row15 col1\" >T</td>\n",
       "      <td id=\"T_b3937_row15_col2\" class=\"data row15 col2\" >T</td>\n",
       "      <td id=\"T_b3937_row15_col3\" class=\"data row15 col3\" >T</td>\n",
       "      <td id=\"T_b3937_row15_col4\" class=\"data row15 col4\" >T</td>\n",
       "      <td id=\"T_b3937_row15_col5\" class=\"data row15 col5\" >T</td>\n",
       "      <td id=\"T_b3937_row15_col6\" class=\"data row15 col6\" >T</td>\n",
       "      <td id=\"T_b3937_row15_col7\" class=\"data row15 col7\" >T</td>\n",
       "    </tr>\n",
       "  </tbody>\n",
       "</table>\n"
      ],
      "text/plain": [
       "<pandas.io.formats.style.Styler at 0x14fb30191c0>"
      ]
     },
     "execution_count": 23,
     "metadata": {},
     "output_type": "execute_result"
    }
   ],
   "source": [
    "# Define the symbols\n",
    "p, q, r, s = sp.symbols('p q r s')\n",
    "\n",
    "# Define the formulas in the knowledge base (KB)\n",
    "KB = [\n",
    "    Implies(Not(p), q),  # ¬p → q\n",
    "    Implies(q, p),       # q → p\n",
    "    Implies(p, And(r, s)),  # p → r ∧ s\n",
    "    And(p, And(r, s))  # p ∧ r ∧ s\n",
    "]\n",
    "\n",
    "# Compute and display the truth table for the given knowledge base\n",
    "la.compute_truth_table([p, q, r, s], KB)"
   ]
  },
  {
   "cell_type": "markdown",
   "metadata": {},
   "source": [
    "## Revision of a Belief Base"
   ]
  },
  {
   "cell_type": "code",
   "execution_count": 24,
   "metadata": {},
   "outputs": [
    {
     "name": "stdout",
     "output_type": "stream",
     "text": [
      "The belief base with the new belief is CONSISTENT.\n",
      "New belief base:\n",
      "q\n",
      "Equivalent(p, r)\n"
     ]
    }
   ],
   "source": [
    "# Define the symbols\n",
    "s, q, r = sp.symbols('p q r')\n",
    "\n",
    "# Define a belief base\n",
    "belief_base = {sp.Equivalent(r, sp.Or(p, s))}\n",
    "\n",
    "# New belief\n",
    "new_belief = q\n",
    "\n",
    "# Check if adding the new belief keeps the belief base consistent\n",
    "belief_base_with_new = belief_base | {new_belief}\n",
    "\n",
    "if la.is_consistent(belief_base_with_new):\n",
    "    print(\"The belief base with the new belief is CONSISTENT.\")\n",
    "    belief_base = belief_base_with_new\n",
    "else:\n",
    "    print(\"The belief base with the new belief is INCONSISTENT. Applying contraction...\")\n",
    "    # Apply contraction\n",
    "    inconsistent_belief = sp.Or(p, q)\n",
    "    contracted_bases = la.bb_contraction(belief_base, inconsistent_belief)\n",
    "    belief_base = set(contracted_bases[0])\n",
    "    belief_base.add(new_belief)\n",
    "\n",
    "# Display the new belief base\n",
    "print(\"New belief base:\")\n",
    "for belief in belief_base:\n",
    "    print(belief)"
   ]
  },
  {
   "cell_type": "markdown",
   "metadata": {},
   "source": [
    "## Revision of formulas"
   ]
  },
  {
   "cell_type": "code",
   "execution_count": 25,
   "metadata": {},
   "outputs": [
    {
     "name": "stdout",
     "output_type": "stream",
     "text": [
      "Results of the belief revision with ¬p (simplification):\n",
      "p -> q: True\n",
      "q -> p: ~q\n",
      "p ∧ q: False\n",
      "p ∨ q: q\n",
      "p ↔ q: ~q\n"
     ]
    },
    {
     "data": {
      "text/html": [
       "<style type=\"text/css\">\n",
       "#T_724dd_row0_col0, #T_724dd_row0_col1, #T_724dd_row0_col5, #T_724dd_row0_col6, #T_724dd_row0_col10, #T_724dd_row0_col11, #T_724dd_row1_col0, #T_724dd_row1_col4, #T_724dd_row1_col5, #T_724dd_row1_col7, #T_724dd_row1_col9, #T_724dd_row1_col10, #T_724dd_row1_col12, #T_724dd_row2_col1, #T_724dd_row2_col2, #T_724dd_row2_col3, #T_724dd_row2_col5, #T_724dd_row2_col7, #T_724dd_row2_col10, #T_724dd_row2_col11, #T_724dd_row3_col2, #T_724dd_row3_col9, #T_724dd_row3_col10, #T_724dd_row3_col12 {\n",
       "  background-color: lightcoral;\n",
       "  color: white;\n",
       "}\n",
       "#T_724dd_row0_col2, #T_724dd_row0_col3, #T_724dd_row0_col4, #T_724dd_row0_col7, #T_724dd_row0_col8, #T_724dd_row0_col9, #T_724dd_row0_col12, #T_724dd_row1_col1, #T_724dd_row1_col2, #T_724dd_row1_col3, #T_724dd_row1_col6, #T_724dd_row1_col8, #T_724dd_row1_col11, #T_724dd_row2_col0, #T_724dd_row2_col4, #T_724dd_row2_col6, #T_724dd_row2_col8, #T_724dd_row2_col9, #T_724dd_row2_col12, #T_724dd_row3_col0, #T_724dd_row3_col1, #T_724dd_row3_col3, #T_724dd_row3_col4, #T_724dd_row3_col5, #T_724dd_row3_col6, #T_724dd_row3_col7, #T_724dd_row3_col8, #T_724dd_row3_col11 {\n",
       "  background-color: lightgreen;\n",
       "  color: white;\n",
       "}\n",
       "</style>\n",
       "<table id=\"T_724dd\">\n",
       "  <thead>\n",
       "    <tr>\n",
       "      <th class=\"blank level0\" >&nbsp;</th>\n",
       "      <th id=\"T_724dd_level0_col0\" class=\"col_heading level0 col0\" >p</th>\n",
       "      <th id=\"T_724dd_level0_col1\" class=\"col_heading level0 col1\" >q</th>\n",
       "      <th id=\"T_724dd_level0_col2\" class=\"col_heading level0 col2\" >Belief Revision: ¬p</th>\n",
       "      <th id=\"T_724dd_level0_col3\" class=\"col_heading level0 col3\" >p -> q</th>\n",
       "      <th id=\"T_724dd_level0_col4\" class=\"col_heading level0 col4\" >q -> p</th>\n",
       "      <th id=\"T_724dd_level0_col5\" class=\"col_heading level0 col5\" >p ∧ q</th>\n",
       "      <th id=\"T_724dd_level0_col6\" class=\"col_heading level0 col6\" >p ∨ q</th>\n",
       "      <th id=\"T_724dd_level0_col7\" class=\"col_heading level0 col7\" >p ↔ q</th>\n",
       "      <th id=\"T_724dd_level0_col8\" class=\"col_heading level0 col8\" >After ¬p: p -> q</th>\n",
       "      <th id=\"T_724dd_level0_col9\" class=\"col_heading level0 col9\" >After ¬p: q -> p</th>\n",
       "      <th id=\"T_724dd_level0_col10\" class=\"col_heading level0 col10\" >After ¬p: p ∧ q</th>\n",
       "      <th id=\"T_724dd_level0_col11\" class=\"col_heading level0 col11\" >After ¬p: p ∨ q</th>\n",
       "      <th id=\"T_724dd_level0_col12\" class=\"col_heading level0 col12\" >After ¬p: p ↔ q</th>\n",
       "    </tr>\n",
       "  </thead>\n",
       "  <tbody>\n",
       "    <tr>\n",
       "      <th id=\"T_724dd_level0_row0\" class=\"row_heading level0 row0\" >0</th>\n",
       "      <td id=\"T_724dd_row0_col0\" class=\"data row0 col0\" >F</td>\n",
       "      <td id=\"T_724dd_row0_col1\" class=\"data row0 col1\" >F</td>\n",
       "      <td id=\"T_724dd_row0_col2\" class=\"data row0 col2\" >T</td>\n",
       "      <td id=\"T_724dd_row0_col3\" class=\"data row0 col3\" >T</td>\n",
       "      <td id=\"T_724dd_row0_col4\" class=\"data row0 col4\" >T</td>\n",
       "      <td id=\"T_724dd_row0_col5\" class=\"data row0 col5\" >F</td>\n",
       "      <td id=\"T_724dd_row0_col6\" class=\"data row0 col6\" >F</td>\n",
       "      <td id=\"T_724dd_row0_col7\" class=\"data row0 col7\" >T</td>\n",
       "      <td id=\"T_724dd_row0_col8\" class=\"data row0 col8\" >T</td>\n",
       "      <td id=\"T_724dd_row0_col9\" class=\"data row0 col9\" >T</td>\n",
       "      <td id=\"T_724dd_row0_col10\" class=\"data row0 col10\" >F</td>\n",
       "      <td id=\"T_724dd_row0_col11\" class=\"data row0 col11\" >F</td>\n",
       "      <td id=\"T_724dd_row0_col12\" class=\"data row0 col12\" >T</td>\n",
       "    </tr>\n",
       "    <tr>\n",
       "      <th id=\"T_724dd_level0_row1\" class=\"row_heading level0 row1\" >1</th>\n",
       "      <td id=\"T_724dd_row1_col0\" class=\"data row1 col0\" >F</td>\n",
       "      <td id=\"T_724dd_row1_col1\" class=\"data row1 col1\" >T</td>\n",
       "      <td id=\"T_724dd_row1_col2\" class=\"data row1 col2\" >T</td>\n",
       "      <td id=\"T_724dd_row1_col3\" class=\"data row1 col3\" >T</td>\n",
       "      <td id=\"T_724dd_row1_col4\" class=\"data row1 col4\" >F</td>\n",
       "      <td id=\"T_724dd_row1_col5\" class=\"data row1 col5\" >F</td>\n",
       "      <td id=\"T_724dd_row1_col6\" class=\"data row1 col6\" >T</td>\n",
       "      <td id=\"T_724dd_row1_col7\" class=\"data row1 col7\" >F</td>\n",
       "      <td id=\"T_724dd_row1_col8\" class=\"data row1 col8\" >T</td>\n",
       "      <td id=\"T_724dd_row1_col9\" class=\"data row1 col9\" >F</td>\n",
       "      <td id=\"T_724dd_row1_col10\" class=\"data row1 col10\" >F</td>\n",
       "      <td id=\"T_724dd_row1_col11\" class=\"data row1 col11\" >T</td>\n",
       "      <td id=\"T_724dd_row1_col12\" class=\"data row1 col12\" >F</td>\n",
       "    </tr>\n",
       "    <tr>\n",
       "      <th id=\"T_724dd_level0_row2\" class=\"row_heading level0 row2\" >2</th>\n",
       "      <td id=\"T_724dd_row2_col0\" class=\"data row2 col0\" >T</td>\n",
       "      <td id=\"T_724dd_row2_col1\" class=\"data row2 col1\" >F</td>\n",
       "      <td id=\"T_724dd_row2_col2\" class=\"data row2 col2\" >F</td>\n",
       "      <td id=\"T_724dd_row2_col3\" class=\"data row2 col3\" >F</td>\n",
       "      <td id=\"T_724dd_row2_col4\" class=\"data row2 col4\" >T</td>\n",
       "      <td id=\"T_724dd_row2_col5\" class=\"data row2 col5\" >F</td>\n",
       "      <td id=\"T_724dd_row2_col6\" class=\"data row2 col6\" >T</td>\n",
       "      <td id=\"T_724dd_row2_col7\" class=\"data row2 col7\" >F</td>\n",
       "      <td id=\"T_724dd_row2_col8\" class=\"data row2 col8\" >T</td>\n",
       "      <td id=\"T_724dd_row2_col9\" class=\"data row2 col9\" >T</td>\n",
       "      <td id=\"T_724dd_row2_col10\" class=\"data row2 col10\" >F</td>\n",
       "      <td id=\"T_724dd_row2_col11\" class=\"data row2 col11\" >F</td>\n",
       "      <td id=\"T_724dd_row2_col12\" class=\"data row2 col12\" >T</td>\n",
       "    </tr>\n",
       "    <tr>\n",
       "      <th id=\"T_724dd_level0_row3\" class=\"row_heading level0 row3\" >3</th>\n",
       "      <td id=\"T_724dd_row3_col0\" class=\"data row3 col0\" >T</td>\n",
       "      <td id=\"T_724dd_row3_col1\" class=\"data row3 col1\" >T</td>\n",
       "      <td id=\"T_724dd_row3_col2\" class=\"data row3 col2\" >F</td>\n",
       "      <td id=\"T_724dd_row3_col3\" class=\"data row3 col3\" >T</td>\n",
       "      <td id=\"T_724dd_row3_col4\" class=\"data row3 col4\" >T</td>\n",
       "      <td id=\"T_724dd_row3_col5\" class=\"data row3 col5\" >T</td>\n",
       "      <td id=\"T_724dd_row3_col6\" class=\"data row3 col6\" >T</td>\n",
       "      <td id=\"T_724dd_row3_col7\" class=\"data row3 col7\" >T</td>\n",
       "      <td id=\"T_724dd_row3_col8\" class=\"data row3 col8\" >T</td>\n",
       "      <td id=\"T_724dd_row3_col9\" class=\"data row3 col9\" >F</td>\n",
       "      <td id=\"T_724dd_row3_col10\" class=\"data row3 col10\" >F</td>\n",
       "      <td id=\"T_724dd_row3_col11\" class=\"data row3 col11\" >T</td>\n",
       "      <td id=\"T_724dd_row3_col12\" class=\"data row3 col12\" >F</td>\n",
       "    </tr>\n",
       "  </tbody>\n",
       "</table>\n"
      ],
      "text/plain": [
       "<pandas.io.formats.style.Styler at 0x14fb30430d0>"
      ]
     },
     "execution_count": 25,
     "metadata": {},
     "output_type": "execute_result"
    }
   ],
   "source": [
    "# Define the symbols\n",
    "p, q = sp.symbols('p q')\n",
    "\n",
    "# Define the formulas\n",
    "formulas = {\n",
    "    'p -> q': sp.Implies(p, q),\n",
    "    'q -> p': sp.Implies(q, p),\n",
    "    'p ∧ q': sp.And(p, q),\n",
    "    'p ∨ q': sp.Or(p, q),\n",
    "    'p ↔ q': sp.Equivalent(p, q)\n",
    "}\n",
    "\n",
    "# Given belief set revision with ¬p\n",
    "belief_revision = sp.Not(p)\n",
    "\n",
    "# Check each formula against the revised belief set\n",
    "results = {}\n",
    "for formula, expr in formulas.items():\n",
    "    # Substitute ¬p into the expression\n",
    "    revised_expr = expr.subs(p, False)\n",
    "    # Evaluate the revised expression\n",
    "    result = sp.simplify(revised_expr)\n",
    "    results[formula] = result\n",
    "\n",
    "# Print the results\n",
    "print(\"Results of the belief revision with ¬p (simplification):\")\n",
    "for formula, result in results.items():\n",
    "    print(f\"{formula}: {result}\")\n",
    "\n",
    "# Compute and display the belief revision table\n",
    "styled_table = la.compute_belief_revision_table(formulas, belief_revision)\n",
    "styled_table\n"
   ]
  },
  {
   "cell_type": "markdown",
   "metadata": {},
   "source": [
    "## Contraction"
   ]
  },
  {
   "cell_type": "code",
   "execution_count": 26,
   "metadata": {},
   "outputs": [
    {
     "name": "stdout",
     "output_type": "stream",
     "text": [
      "Maximal subset 1: {Equivalent(p, q)}\n",
      "Maximal subset 2: {p | q}\n"
     ]
    }
   ],
   "source": [
    "# Define the symbols\n",
    "p, q = sp.symbols('p q')\n",
    "\n",
    "# Define the belief base and the proposition\n",
    "# belief_base = {p, q, Implies(p, q), Implies(Not(p), q)}\n",
    "# proposition = q\n",
    "\n",
    "belief_base = {p, sp.Or(p,q), sp.And(p, q), sp.Equivalent(p, q)}\n",
    "proposition = p\n",
    "\n",
    "result = la.bb_contraction(belief_base, proposition)\n",
    "for i, subset in enumerate(result):\n",
    "    print(f\"Maximal subset {i+1}: {set(subset)}\")"
   ]
  },
  {
   "cell_type": "markdown",
   "metadata": {},
   "source": [
    "# Convert to CNF"
   ]
  },
  {
   "cell_type": "code",
   "execution_count": 27,
   "metadata": {},
   "outputs": [
    {
     "name": "stdout",
     "output_type": "stream",
     "text": [
      "Original Expression 1: Equivalent(a, c | e)\n",
      "CNF 1: (a | ~c) & (a | ~e) & (c | e | ~a)\n",
      "Original Expression 2: Implies(e, d)\n",
      "CNF 2: d | ~e\n",
      "Original Expression 3: Implies(b & f, ~c)\n",
      "CNF 3: ~b | ~c | ~f\n",
      "Original Expression 4: Implies(e, c)\n",
      "CNF 4: c | ~e\n",
      "Original Expression 5: Implies(c, f)\n",
      "CNF 5: f | ~c\n",
      "Original Expression 6: Implies(c, b)\n",
      "CNF 6: b | ~c\n"
     ]
    }
   ],
   "source": [
    "# Define the symbols\n",
    "a, b, c, d, e, f = sp.symbols('a b c d e f')\n",
    "\n",
    "# Define a list of logical expressions\n",
    "expressions = [\n",
    "    sp.Equivalent(a, sp.Or(c, e)),\n",
    "    sp.Implies(e, d),\n",
    "    sp.Implies(sp.And(b, f), sp.Not(c)),\n",
    "    sp.Implies(e, c),\n",
    "    sp.Implies(c, f),\n",
    "    sp.Implies(c, b),\n",
    "]\n",
    "\n",
    "# Convert the expressions to CNF\n",
    "cnf_expressions = la.convert_to_cnf(expressions)\n",
    "\n",
    "# Display the original and CNF expressions\n",
    "for i, expr in enumerate(expressions):\n",
    "    print(f\"Original Expression {i+1}: {expr}\")\n",
    "    print(f\"CNF {i+1}: {cnf_expressions[i]}\")"
   ]
  }
 ],
 "metadata": {
  "kernelspec": {
   "display_name": "course02502",
   "language": "python",
   "name": "python3"
  },
  "language_info": {
   "codemirror_mode": {
    "name": "ipython",
    "version": 3
   },
   "file_extension": ".py",
   "mimetype": "text/x-python",
   "name": "python",
   "nbconvert_exporter": "python",
   "pygments_lexer": "ipython3",
   "version": "3.9.17"
  }
 },
 "nbformat": 4,
 "nbformat_minor": 2
}
